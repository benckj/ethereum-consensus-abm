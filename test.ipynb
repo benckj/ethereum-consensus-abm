{
 "cells": [
  {
   "cell_type": "code",
   "execution_count": 107,
   "metadata": {},
   "outputs": [
    {
     "name": "stdout",
     "output_type": "stream",
     "text": [
      "[(0, 3), (1, 3), (2, 3), (3, 3), (4, 3), (5, 3), (6, 3), (7, 3), (8, 3), (9, 3), (10, 3), (11, 3), (12, 3), (13, 3), (14, 3), (15, 3), (16, 3), (17, 3), (18, 3), (19, 3)]\n"
     ]
    },
    {
     "data": {
      "image/png": "[encoded data removed]",
      "text/plain": [
       "<Figure size 432x288 with 1 Axes>"
      ]
     },
     "metadata": {},
     "output_type": "display_data"
    }
   ],
   "source": [
    "import networkx as nx\n",
    "x = nx.random_degree_sequence_graph([3 for i in range(20)], seed=56)\n",
    "print(x.degree())\n",
    "lcc_set = max(nx.connected_components(x), key=len)\n",
    "x = nx.convert_node_labels_to_integers(\n",
    "        x, first_label=0)\n",
    "nx.draw(x)"
   ]
  },
  {
   "cell_type": "code",
   "execution_count": 219,
   "metadata": {},
   "outputs": [
    {
     "name": "stdout",
     "output_type": "stream",
     "text": [
      "initialized proposer\n",
      "initialized validator\n",
      "setter of x called\n",
      "proposed block\n"
     ]
    }
   ],
   "source": [
    "import random as rnd\n",
    "\n",
    "class Proposer(object):\n",
    "    def __init__(self):\n",
    "        print('initialized proposer')\n",
    "    def event(self):\n",
    "        self.current_block = Block(self, self.current_block)\n",
    "        # debug\n",
    "        # print('Huzza! {} was proposed.'.format(self.current_block))\n",
    "        \n",
    "        self.local_blockchain.add(self.current_block)\n",
    "        self.global_blockchain.append(self.current_block)\n",
    "        \n",
    "        # tracks the neighbours self.Node didnt gossip\n",
    "        self.non_gossiped_to = self.neighbors.copy()\n",
    "        #TODO: remove\n",
    "        self.attestations.attest() \n",
    "        print('proposed block')\n",
    "\n",
    "class Validator(object):\n",
    "    def __init__(self):\n",
    "        print('initialized validator')\n",
    "    def event(self):\n",
    "        print('voted block')\n",
    "\n",
    "class Node(Proposer, Validator):\n",
    "    counter = 0\n",
    "\n",
    "    @classmethod\n",
    "    def __update(cls):\n",
    "        cls.counter += 1\n",
    "\n",
    "    def __init__(self, blockchain):\n",
    "        Proposer.__init__(self)\n",
    "        Validator.__init__(self)\n",
    "        self.__update()\n",
    "        self.id = self.counter\n",
    "        self._slotRole = None\n",
    "\n",
    "    @property\n",
    "    def slotRole(self):\n",
    "        \"\"\"I'm the 'x' property.\"\"\"\n",
    "        print(\"getter of x called\")\n",
    "        return self._slotRole\n",
    "\n",
    "    @slotRole.setter\n",
    "    def slotRole(self, value):\n",
    "        print(\"setter of x called\")\n",
    "        self._slotRole = value\n",
    "\n",
    "    def event(self):\n",
    "        if self._slotRole == 'Proposer':\n",
    "            Proposer.event(self)\n",
    "        else:\n",
    "            Validator.event(self)\n",
    "\n",
    "    def __repr__(self):\n",
    "        return '<Node {}>'.format(self.id)\n",
    "\n",
    "    #TODO: gossip blocks, naming should be changed accordingly\n",
    "    def gossip(self, listening_node):\n",
    "        #self.non_gossiped_to.remove(listening_node)\n",
    "        listening_node.listen(self)\n",
    "\n",
    "    #TODO: listen blocks, naming should be changed accordingly\n",
    "    def listen(self, gossiping_node):\n",
    "        \"\"\"Receive new block and update local information accordingly.\n",
    "        \"\"\"\n",
    "        block = gossiping_node.current_block \n",
    "        self.current_block = gossiping_node.current_block\n",
    "        self.update_local_blockchain(self.current_block)\n",
    "        #self.current_block.nodes.add(self)\n",
    "        self.non_gossiped_to = self.neighbors.copy()\n",
    "        self.non_gossiped_to.remove(gossiping_node)\n",
    "               \n",
    "        # [Teja] handles attestation here\n",
    "        # if self.is_attesting == True:\n",
    "        #     self.attestations.attest()\n",
    "\n",
    "    def update_local_blockchain(self, block):\n",
    "        \"\"\"When self.Node receive a new block, update the local copy of the blockchain.\n",
    "        \"\"\"\n",
    "        while block not in self.local_blockchain:\n",
    "            self.local_blockchain.add(block)\n",
    "            self.attestations.check_cache(block)\n",
    "            block = block.parent \n",
    "\n",
    "    \n",
    "#     if self.is_attesting == True:\n",
    "#         self.attestations.attest()\n",
    "# nodes = [Node() for i in range(5)]\n",
    "# proposer_index = rnd.choice(range(5))\n",
    "# proposer_nodes = nodes[proposer_index]\n",
    "# validator_nodes = nodes[~proposer_index]\n",
    "\n",
    "# print(proposer_nodes, validator_nodes)\n",
    "\n",
    "n = Node() \n",
    "n.slotRole = 'Proposer'\n",
    "n.event()\n",
    "    \n",
    "    "
   ]
  },
  {
   "cell_type": "code",
   "execution_count": 111,
   "metadata": {},
   "outputs": [
    {
     "data": {
      "text/plain": [
       "0"
      ]
     },
     "execution_count": 111,
     "metadata": {},
     "output_type": "execute_result"
    }
   ],
   "source": [
    "12 % 3\n"
   ]
  }
 ],
 "metadata": {
  "kernelspec": {
   "display_name": "Python 3.9.12 ('base')",
   "language": "python",
   "name": "python3"
  },
  "language_info": {
   "codemirror_mode": {
    "name": "ipython",
    "version": 3
   },
   "file_extension": ".py",
   "mimetype": "text/x-python",
   "name": "python",
   "nbconvert_exporter": "python",
   "pygments_lexer": "ipython3",
   "version": "3.9.12"
  },
  "orig_nbformat": 4,
  "vscode": {
   "interpreter": {
    "hash": "9d3e04e7dbd74cfd5d1c431f1c2d755d92d3231d1fcf278da708dcaf5d5ede76"
   }
  }
 },
 "nbformat": 4,
 "nbformat_minor": 2
}
